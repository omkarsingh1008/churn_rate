{
 "cells": [
  {
   "cell_type": "code",
   "execution_count": 190,
   "id": "beautiful-petroleum",
   "metadata": {},
   "outputs": [],
   "source": [
    "import pandas as pd\n",
    "import seaborn as sns\n",
    "import matplotlib.pyplot as plt\n",
    "from sklearn.model_selection import train_test_split,GridSearchCV\n",
    "from sklearn.ensemble import GradientBoostingClassifier"
   ]
  },
  {
   "cell_type": "code",
   "execution_count": 189,
   "id": "occupational-defense",
   "metadata": {},
   "outputs": [
    {
     "name": "stdout",
     "output_type": "stream",
     "text": [
      "Collecting xgboost\n",
      "  Downloading xgboost-1.3.3-py3-none-manylinux2010_x86_64.whl (157.5 MB)\n",
      "\u001b[K     |████▊                           | 23.1 MB 91 kB/s eta 0:24:3545^C\n",
      "\n",
      "\u001b[31mERROR: Operation cancelled by user\u001b[0m\n"
     ]
    }
   ],
   "source": [
    "!pip install xgboost"
   ]
  },
  {
   "cell_type": "code",
   "execution_count": 146,
   "id": "explicit-dictionary",
   "metadata": {},
   "outputs": [
    {
     "data": {
      "text/html": [
       "<div>\n",
       "<style scoped>\n",
       "    .dataframe tbody tr th:only-of-type {\n",
       "        vertical-align: middle;\n",
       "    }\n",
       "\n",
       "    .dataframe tbody tr th {\n",
       "        vertical-align: top;\n",
       "    }\n",
       "\n",
       "    .dataframe thead th {\n",
       "        text-align: right;\n",
       "    }\n",
       "</style>\n",
       "<table border=\"1\" class=\"dataframe\">\n",
       "  <thead>\n",
       "    <tr style=\"text-align: right;\">\n",
       "      <th></th>\n",
       "      <th>customer_id</th>\n",
       "      <th>Name</th>\n",
       "      <th>age</th>\n",
       "      <th>gender</th>\n",
       "      <th>security_no</th>\n",
       "      <th>region_category</th>\n",
       "      <th>membership_category</th>\n",
       "      <th>joining_date</th>\n",
       "      <th>joined_through_referral</th>\n",
       "      <th>referral_id</th>\n",
       "      <th>...</th>\n",
       "      <th>avg_time_spent</th>\n",
       "      <th>avg_transaction_value</th>\n",
       "      <th>avg_frequency_login_days</th>\n",
       "      <th>points_in_wallet</th>\n",
       "      <th>used_special_discount</th>\n",
       "      <th>offer_application_preference</th>\n",
       "      <th>past_complaint</th>\n",
       "      <th>complaint_status</th>\n",
       "      <th>feedback</th>\n",
       "      <th>churn_risk_score</th>\n",
       "    </tr>\n",
       "  </thead>\n",
       "  <tbody>\n",
       "    <tr>\n",
       "      <th>0</th>\n",
       "      <td>fffe4300490044003600300030003800</td>\n",
       "      <td>Pattie Morrisey</td>\n",
       "      <td>18</td>\n",
       "      <td>F</td>\n",
       "      <td>XW0DQ7H</td>\n",
       "      <td>Village</td>\n",
       "      <td>Platinum Membership</td>\n",
       "      <td>2017-08-17</td>\n",
       "      <td>No</td>\n",
       "      <td>xxxxxxxx</td>\n",
       "      <td>...</td>\n",
       "      <td>300.63</td>\n",
       "      <td>53005.25</td>\n",
       "      <td>17.0</td>\n",
       "      <td>781.75</td>\n",
       "      <td>Yes</td>\n",
       "      <td>Yes</td>\n",
       "      <td>No</td>\n",
       "      <td>Not Applicable</td>\n",
       "      <td>Products always in Stock</td>\n",
       "      <td>2</td>\n",
       "    </tr>\n",
       "    <tr>\n",
       "      <th>1</th>\n",
       "      <td>fffe43004900440032003100300035003700</td>\n",
       "      <td>Traci Peery</td>\n",
       "      <td>32</td>\n",
       "      <td>F</td>\n",
       "      <td>5K0N3X1</td>\n",
       "      <td>City</td>\n",
       "      <td>Premium Membership</td>\n",
       "      <td>2017-08-28</td>\n",
       "      <td>?</td>\n",
       "      <td>CID21329</td>\n",
       "      <td>...</td>\n",
       "      <td>306.34</td>\n",
       "      <td>12838.38</td>\n",
       "      <td>10.0</td>\n",
       "      <td>NaN</td>\n",
       "      <td>Yes</td>\n",
       "      <td>No</td>\n",
       "      <td>Yes</td>\n",
       "      <td>Solved</td>\n",
       "      <td>Quality Customer Care</td>\n",
       "      <td>1</td>\n",
       "    </tr>\n",
       "    <tr>\n",
       "      <th>2</th>\n",
       "      <td>fffe4300490044003100390032003600</td>\n",
       "      <td>Merideth Mcmeen</td>\n",
       "      <td>44</td>\n",
       "      <td>F</td>\n",
       "      <td>1F2TCL3</td>\n",
       "      <td>Town</td>\n",
       "      <td>No Membership</td>\n",
       "      <td>2016-11-11</td>\n",
       "      <td>Yes</td>\n",
       "      <td>CID12313</td>\n",
       "      <td>...</td>\n",
       "      <td>516.16</td>\n",
       "      <td>21027.00</td>\n",
       "      <td>22.0</td>\n",
       "      <td>500.69</td>\n",
       "      <td>No</td>\n",
       "      <td>Yes</td>\n",
       "      <td>Yes</td>\n",
       "      <td>Solved in Follow-up</td>\n",
       "      <td>Poor Website</td>\n",
       "      <td>5</td>\n",
       "    </tr>\n",
       "    <tr>\n",
       "      <th>3</th>\n",
       "      <td>fffe43004900440036003000330031003600</td>\n",
       "      <td>Eufemia Cardwell</td>\n",
       "      <td>37</td>\n",
       "      <td>M</td>\n",
       "      <td>VJGJ33N</td>\n",
       "      <td>City</td>\n",
       "      <td>No Membership</td>\n",
       "      <td>2016-10-29</td>\n",
       "      <td>Yes</td>\n",
       "      <td>CID3793</td>\n",
       "      <td>...</td>\n",
       "      <td>53.27</td>\n",
       "      <td>25239.56</td>\n",
       "      <td>6.0</td>\n",
       "      <td>567.66</td>\n",
       "      <td>No</td>\n",
       "      <td>Yes</td>\n",
       "      <td>Yes</td>\n",
       "      <td>Unsolved</td>\n",
       "      <td>Poor Website</td>\n",
       "      <td>5</td>\n",
       "    </tr>\n",
       "    <tr>\n",
       "      <th>4</th>\n",
       "      <td>fffe43004900440031003900350030003600</td>\n",
       "      <td>Meghan Kosak</td>\n",
       "      <td>31</td>\n",
       "      <td>F</td>\n",
       "      <td>SVZXCWB</td>\n",
       "      <td>City</td>\n",
       "      <td>No Membership</td>\n",
       "      <td>2017-09-12</td>\n",
       "      <td>No</td>\n",
       "      <td>xxxxxxxx</td>\n",
       "      <td>...</td>\n",
       "      <td>113.13</td>\n",
       "      <td>24483.66</td>\n",
       "      <td>16.0</td>\n",
       "      <td>663.06</td>\n",
       "      <td>No</td>\n",
       "      <td>Yes</td>\n",
       "      <td>Yes</td>\n",
       "      <td>Solved</td>\n",
       "      <td>Poor Website</td>\n",
       "      <td>5</td>\n",
       "    </tr>\n",
       "  </tbody>\n",
       "</table>\n",
       "<p>5 rows × 25 columns</p>\n",
       "</div>"
      ],
      "text/plain": [
       "                            customer_id              Name  age gender  \\\n",
       "0      fffe4300490044003600300030003800   Pattie Morrisey   18      F   \n",
       "1  fffe43004900440032003100300035003700       Traci Peery   32      F   \n",
       "2      fffe4300490044003100390032003600   Merideth Mcmeen   44      F   \n",
       "3  fffe43004900440036003000330031003600  Eufemia Cardwell   37      M   \n",
       "4  fffe43004900440031003900350030003600      Meghan Kosak   31      F   \n",
       "\n",
       "  security_no region_category  membership_category joining_date  \\\n",
       "0     XW0DQ7H         Village  Platinum Membership   2017-08-17   \n",
       "1     5K0N3X1            City   Premium Membership   2017-08-28   \n",
       "2     1F2TCL3            Town        No Membership   2016-11-11   \n",
       "3     VJGJ33N            City        No Membership   2016-10-29   \n",
       "4     SVZXCWB            City        No Membership   2017-09-12   \n",
       "\n",
       "  joined_through_referral referral_id  ... avg_time_spent  \\\n",
       "0                      No    xxxxxxxx  ...         300.63   \n",
       "1                       ?    CID21329  ...         306.34   \n",
       "2                     Yes    CID12313  ...         516.16   \n",
       "3                     Yes     CID3793  ...          53.27   \n",
       "4                      No    xxxxxxxx  ...         113.13   \n",
       "\n",
       "  avg_transaction_value avg_frequency_login_days points_in_wallet  \\\n",
       "0              53005.25                     17.0           781.75   \n",
       "1              12838.38                     10.0              NaN   \n",
       "2              21027.00                     22.0           500.69   \n",
       "3              25239.56                      6.0           567.66   \n",
       "4              24483.66                     16.0           663.06   \n",
       "\n",
       "   used_special_discount  offer_application_preference  past_complaint  \\\n",
       "0                    Yes                           Yes              No   \n",
       "1                    Yes                            No             Yes   \n",
       "2                     No                           Yes             Yes   \n",
       "3                     No                           Yes             Yes   \n",
       "4                     No                           Yes             Yes   \n",
       "\n",
       "      complaint_status                  feedback churn_risk_score  \n",
       "0       Not Applicable  Products always in Stock                2  \n",
       "1               Solved     Quality Customer Care                1  \n",
       "2  Solved in Follow-up              Poor Website                5  \n",
       "3             Unsolved              Poor Website                5  \n",
       "4               Solved              Poor Website                5  \n",
       "\n",
       "[5 rows x 25 columns]"
      ]
     },
     "execution_count": 146,
     "metadata": {},
     "output_type": "execute_result"
    }
   ],
   "source": [
    "train=pd.read_csv('train.csv')\n",
    "train.head()"
   ]
  },
  {
   "cell_type": "code",
   "execution_count": 3,
   "id": "ranging-infrared",
   "metadata": {},
   "outputs": [
    {
     "name": "stdout",
     "output_type": "stream",
     "text": [
      "<class 'pandas.core.frame.DataFrame'>\n",
      "RangeIndex: 36992 entries, 0 to 36991\n",
      "Data columns (total 25 columns):\n",
      " #   Column                        Non-Null Count  Dtype  \n",
      "---  ------                        --------------  -----  \n",
      " 0   customer_id                   36992 non-null  object \n",
      " 1   Name                          36992 non-null  object \n",
      " 2   age                           36992 non-null  int64  \n",
      " 3   gender                        36992 non-null  object \n",
      " 4   security_no                   36992 non-null  object \n",
      " 5   region_category               31564 non-null  object \n",
      " 6   membership_category           36992 non-null  object \n",
      " 7   joining_date                  36992 non-null  object \n",
      " 8   joined_through_referral       36992 non-null  object \n",
      " 9   referral_id                   36992 non-null  object \n",
      " 10  preferred_offer_types         36704 non-null  object \n",
      " 11  medium_of_operation           36992 non-null  object \n",
      " 12  internet_option               36992 non-null  object \n",
      " 13  last_visit_time               36992 non-null  object \n",
      " 14  days_since_last_login         36992 non-null  int64  \n",
      " 15  avg_time_spent                36992 non-null  float64\n",
      " 16  avg_transaction_value         36992 non-null  float64\n",
      " 17  avg_frequency_login_days      36992 non-null  object \n",
      " 18  points_in_wallet              33549 non-null  float64\n",
      " 19  used_special_discount         36992 non-null  object \n",
      " 20  offer_application_preference  36992 non-null  object \n",
      " 21  past_complaint                36992 non-null  object \n",
      " 22  complaint_status              36992 non-null  object \n",
      " 23  feedback                      36992 non-null  object \n",
      " 24  churn_risk_score              36992 non-null  int64  \n",
      "dtypes: float64(3), int64(3), object(19)\n",
      "memory usage: 7.1+ MB\n"
     ]
    }
   ],
   "source": [
    "train.info()"
   ]
  },
  {
   "cell_type": "code",
   "execution_count": 4,
   "id": "flying-timeline",
   "metadata": {},
   "outputs": [
    {
     "data": {
      "image/png": "[encoded data removed]",
      "text/plain": [
       "<Figure size 720x504 with 2 Axes>"
      ]
     },
     "metadata": {
      "needs_background": "light"
     },
     "output_type": "display_data"
    }
   ],
   "source": [
    "plt.figure(figsize=(10,7))\n",
    "sns.heatmap(data=train.corr(),annot=True)\n",
    "plt.show()"
   ]
  },
  {
   "cell_type": "code",
   "execution_count": 22,
   "id": "improved-escape",
   "metadata": {},
   "outputs": [
    {
     "name": "stderr",
     "output_type": "stream",
     "text": [
      "/home/omkar/anaconda3/lib/python3.7/site-packages/seaborn/distributions.py:2557: FutureWarning: `distplot` is a deprecated function and will be removed in a future version. Please adapt your code to use either `displot` (a figure-level function with similar flexibility) or `histplot` (an axes-level function for histograms).\n",
      "  warnings.warn(msg, FutureWarning)\n"
     ]
    },
    {
     "data": {
      "text/plain": [
       "<AxesSubplot:xlabel='avg_time_spent', ylabel='Density'>"
      ]
     },
     "execution_count": 22,
     "metadata": {},
     "output_type": "execute_result"
    },
    {
     "data": {
      "image/png": "[encoded data removed]",
      "text/plain": [
       "<Figure size 720x360 with 1 Axes>"
      ]
     },
     "metadata": {
      "needs_background": "light"
     },
     "output_type": "display_data"
    }
   ],
   "source": [
    "plt.figure(figsize=(10,5))\n",
    "sns.distplot(train.avg_time_spent)"
   ]
  },
  {
   "cell_type": "code",
   "execution_count": 7,
   "id": "joined-pathology",
   "metadata": {},
   "outputs": [
    {
     "data": {
      "text/plain": [
       "customer_id                        0\n",
       "Name                               0\n",
       "age                                0\n",
       "gender                             0\n",
       "security_no                        0\n",
       "region_category                 5428\n",
       "membership_category                0\n",
       "joining_date                       0\n",
       "joined_through_referral            0\n",
       "referral_id                        0\n",
       "preferred_offer_types            288\n",
       "medium_of_operation                0\n",
       "internet_option                    0\n",
       "last_visit_time                    0\n",
       "days_since_last_login              0\n",
       "avg_time_spent                     0\n",
       "avg_transaction_value              0\n",
       "avg_frequency_login_days           0\n",
       "points_in_wallet                3443\n",
       "used_special_discount              0\n",
       "offer_application_preference       0\n",
       "past_complaint                     0\n",
       "complaint_status                   0\n",
       "feedback                           0\n",
       "churn_risk_score                   0\n",
       "dtype: int64"
      ]
     },
     "execution_count": 7,
     "metadata": {},
     "output_type": "execute_result"
    }
   ],
   "source": [
    "train.isnull().sum()"
   ]
  },
  {
   "cell_type": "code",
   "execution_count": 12,
   "id": "agricultural-manchester",
   "metadata": {},
   "outputs": [
    {
     "name": "stderr",
     "output_type": "stream",
     "text": [
      "/home/omkar/anaconda3/lib/python3.7/site-packages/seaborn/_decorators.py:43: FutureWarning: Pass the following variable as a keyword arg: x. From version 0.12, the only valid positional argument will be `data`, and passing other arguments without an explicit keyword will result in an error or misinterpretation.\n",
      "  FutureWarning\n"
     ]
    },
    {
     "data": {
      "image/png": "[encoded data removed]",
      "text/plain": [
       "<Figure size 720x360 with 1 Axes>"
      ]
     },
     "metadata": {
      "needs_background": "light"
     },
     "output_type": "display_data"
    }
   ],
   "source": [
    "plt.figure(figsize=(10,5))\n",
    "sns.countplot('gender',data=train)\n",
    "plt.show()"
   ]
  },
  {
   "cell_type": "code",
   "execution_count": 16,
   "id": "permanent-elimination",
   "metadata": {},
   "outputs": [
    {
     "name": "stderr",
     "output_type": "stream",
     "text": [
      "/home/omkar/anaconda3/lib/python3.7/site-packages/seaborn/_decorators.py:43: FutureWarning: Pass the following variables as keyword args: x, y. From version 0.12, the only valid positional argument will be `data`, and passing other arguments without an explicit keyword will result in an error or misinterpretation.\n",
      "  FutureWarning\n"
     ]
    },
    {
     "data": {
      "image/png": "[encoded data removed]",
      "text/plain": [
       "<Figure size 720x360 with 1 Axes>"
      ]
     },
     "metadata": {
      "needs_background": "light"
     },
     "output_type": "display_data"
    }
   ],
   "source": [
    "plt.figure(figsize=(10,5))\n",
    "sns.barplot('gender','age',data=train)\n",
    "plt.show()"
   ]
  },
  {
   "cell_type": "code",
   "execution_count": 20,
   "id": "enormous-spiritual",
   "metadata": {},
   "outputs": [
    {
     "name": "stderr",
     "output_type": "stream",
     "text": [
      "/home/omkar/anaconda3/lib/python3.7/site-packages/seaborn/_decorators.py:43: FutureWarning: Pass the following variable as a keyword arg: x. From version 0.12, the only valid positional argument will be `data`, and passing other arguments without an explicit keyword will result in an error or misinterpretation.\n",
      "  FutureWarning\n"
     ]
    },
    {
     "data": {
      "image/png": "[encoded data removed]",
      "text/plain": [
       "<Figure size 720x360 with 1 Axes>"
      ]
     },
     "metadata": {
      "needs_background": "light"
     },
     "output_type": "display_data"
    }
   ],
   "source": [
    "plt.figure(figsize=(10,5))\n",
    "sns.countplot('churn_risk_score',data=train,hue='gender')\n",
    "plt.show()"
   ]
  },
  {
   "cell_type": "code",
   "execution_count": 19,
   "id": "unknown-belief",
   "metadata": {},
   "outputs": [
    {
     "name": "stderr",
     "output_type": "stream",
     "text": [
      "/home/omkar/anaconda3/lib/python3.7/site-packages/seaborn/_decorators.py:43: FutureWarning: Pass the following variable as a keyword arg: x. From version 0.12, the only valid positional argument will be `data`, and passing other arguments without an explicit keyword will result in an error or misinterpretation.\n",
      "  FutureWarning\n"
     ]
    },
    {
     "data": {
      "image/png": "[encoded data removed]",
      "text/plain": [
       "<Figure size 720x360 with 1 Axes>"
      ]
     },
     "metadata": {
      "needs_background": "light"
     },
     "output_type": "display_data"
    }
   ],
   "source": [
    "plt.figure(figsize=(10,5))\n",
    "sns.countplot(train.region_category,data=train,hue='gender')\n",
    "plt.show()"
   ]
  },
  {
   "cell_type": "code",
   "execution_count": 22,
   "id": "naughty-advocate",
   "metadata": {},
   "outputs": [
    {
     "name": "stderr",
     "output_type": "stream",
     "text": [
      "/home/omkar/anaconda3/lib/python3.7/site-packages/seaborn/_decorators.py:43: FutureWarning: Pass the following variable as a keyword arg: x. From version 0.12, the only valid positional argument will be `data`, and passing other arguments without an explicit keyword will result in an error or misinterpretation.\n",
      "  FutureWarning\n"
     ]
    },
    {
     "data": {
      "image/png": "[encoded data removed]",
      "text/plain": [
       "<Figure size 720x360 with 1 Axes>"
      ]
     },
     "metadata": {
      "needs_background": "light"
     },
     "output_type": "display_data"
    }
   ],
   "source": [
    "plt.figure(figsize=(10,5))\n",
    "sns.countplot('age',data=train)\n",
    "plt.show()"
   ]
  },
  {
   "cell_type": "code",
   "execution_count": 24,
   "id": "turned-craft",
   "metadata": {},
   "outputs": [
    {
     "name": "stderr",
     "output_type": "stream",
     "text": [
      "/home/omkar/anaconda3/lib/python3.7/site-packages/seaborn/_decorators.py:43: FutureWarning: Pass the following variable as a keyword arg: x. From version 0.12, the only valid positional argument will be `data`, and passing other arguments without an explicit keyword will result in an error or misinterpretation.\n",
      "  FutureWarning\n"
     ]
    },
    {
     "data": {
      "image/png": "[encoded data removed]",
      "text/plain": [
       "<Figure size 720x360 with 1 Axes>"
      ]
     },
     "metadata": {
      "needs_background": "light"
     },
     "output_type": "display_data"
    }
   ],
   "source": [
    "plt.figure(figsize=(10,5))\n",
    "sns.countplot(train.region_category,data=train,hue='membership_category')\n",
    "plt.show()"
   ]
  },
  {
   "cell_type": "code",
   "execution_count": 26,
   "id": "hearing-argument",
   "metadata": {},
   "outputs": [
    {
     "name": "stderr",
     "output_type": "stream",
     "text": [
      "/home/omkar/anaconda3/lib/python3.7/site-packages/seaborn/_decorators.py:43: FutureWarning: Pass the following variable as a keyword arg: x. From version 0.12, the only valid positional argument will be `data`, and passing other arguments without an explicit keyword will result in an error or misinterpretation.\n",
      "  FutureWarning\n"
     ]
    },
    {
     "data": {
      "image/png": "[encoded data removed]",
      "text/plain": [
       "<Figure size 720x360 with 1 Axes>"
      ]
     },
     "metadata": {
      "needs_background": "light"
     },
     "output_type": "display_data"
    }
   ],
   "source": [
    "plt.figure(figsize=(10,5))\n",
    "sns.countplot(train.gender,data=train,hue='membership_category')\n",
    "plt.show()"
   ]
  },
  {
   "cell_type": "code",
   "execution_count": null,
   "id": "verbal-pencil",
   "metadata": {},
   "outputs": [],
   "source": []
  },
  {
   "cell_type": "code",
   "execution_count": 39,
   "id": "opening-update",
   "metadata": {},
   "outputs": [
    {
     "data": {
      "text/plain": [
       "<Figure size 1080x1080 with 0 Axes>"
      ]
     },
     "metadata": {},
     "output_type": "display_data"
    },
    {
     "data": {
      "image/png": "[encoded data removed]",
      "text/plain": [
       "<Figure size 442.375x360 with 1 Axes>"
      ]
     },
     "metadata": {
      "needs_background": "light"
     },
     "output_type": "display_data"
    }
   ],
   "source": [
    "plt.figure(figsize=(15,15))\n",
    "sns.displot(data=train, x=\"avg_time_spent\", hue=\"gender\", multiple=\"stack\")\n",
    "plt.show()"
   ]
  },
  {
   "cell_type": "code",
   "execution_count": 41,
   "id": "paperback-sentence",
   "metadata": {},
   "outputs": [
    {
     "data": {
      "text/plain": [
       "Index(['customer_id', 'Name', 'age', 'gender', 'security_no',\n",
       "       'region_category', 'membership_category', 'joining_date',\n",
       "       'joined_through_referral', 'referral_id', 'preferred_offer_types',\n",
       "       'medium_of_operation', 'internet_option', 'last_visit_time',\n",
       "       'days_since_last_login', 'avg_time_spent', 'avg_transaction_value',\n",
       "       'avg_frequency_login_days', 'points_in_wallet', 'used_special_discount',\n",
       "       'offer_application_preference', 'past_complaint', 'complaint_status',\n",
       "       'feedback', 'churn_risk_score'],\n",
       "      dtype='object')"
      ]
     },
     "execution_count": 41,
     "metadata": {},
     "output_type": "execute_result"
    }
   ],
   "source": [
    "train.columns"
   ]
  },
  {
   "cell_type": "code",
   "execution_count": 42,
   "id": "entire-america",
   "metadata": {},
   "outputs": [
    {
     "data": {
      "text/plain": [
       "<Figure size 1080x1080 with 0 Axes>"
      ]
     },
     "metadata": {},
     "output_type": "display_data"
    },
    {
     "data": {
      "image/png": "[encoded data removed]",
      "text/plain": [
       "<Figure size 442.375x360 with 1 Axes>"
      ]
     },
     "metadata": {
      "needs_background": "light"
     },
     "output_type": "display_data"
    }
   ],
   "source": [
    "plt.figure(figsize=(15,15))\n",
    "sns.displot(data=train, x=\"avg_transaction_value\", hue=\"gender\", multiple=\"stack\")\n",
    "plt.show()"
   ]
  },
  {
   "cell_type": "code",
   "execution_count": 43,
   "id": "changed-sculpture",
   "metadata": {},
   "outputs": [
    {
     "data": {
      "text/plain": [
       "<Figure size 1080x1080 with 0 Axes>"
      ]
     },
     "metadata": {},
     "output_type": "display_data"
    },
    {
     "data": {
      "image/png": "[encoded data removed]",
      "text/plain": [
       "<Figure size 451.375x360 with 1 Axes>"
      ]
     },
     "metadata": {
      "needs_background": "light"
     },
     "output_type": "display_data"
    }
   ],
   "source": [
    "plt.figure(figsize=(15,15))\n",
    "sns.displot(data=train, x=\"avg_transaction_value\", hue=\"churn_risk_score\", multiple=\"stack\")\n",
    "plt.show()"
   ]
  },
  {
   "cell_type": "code",
   "execution_count": 46,
   "id": "favorite-vegetarian",
   "metadata": {},
   "outputs": [
    {
     "name": "stderr",
     "output_type": "stream",
     "text": [
      "/home/omkar/anaconda3/lib/python3.7/site-packages/seaborn/_decorators.py:43: FutureWarning: Pass the following variable as a keyword arg: x. From version 0.12, the only valid positional argument will be `data`, and passing other arguments without an explicit keyword will result in an error or misinterpretation.\n",
      "  FutureWarning\n",
      "/home/omkar/anaconda3/lib/python3.7/site-packages/seaborn/_core.py:1319: UserWarning: Vertical orientation ignored with only `x` specified.\n",
      "  warnings.warn(single_var_warning.format(\"Vertical\", \"x\"))\n"
     ]
    },
    {
     "data": {
      "text/plain": [
       "<AxesSubplot:xlabel='avg_transaction_value'>"
      ]
     },
     "execution_count": 46,
     "metadata": {},
     "output_type": "execute_result"
    },
    {
     "data": {
      "image/png": "[encoded data removed]",
      "text/plain": [
       "<Figure size 720x504 with 1 Axes>"
      ]
     },
     "metadata": {
      "needs_background": "light"
     },
     "output_type": "display_data"
    }
   ],
   "source": [
    "plt.figure(figsize=(10,7))\n",
    "sns.boxplot(train.avg_transaction_value,orient='v')"
   ]
  },
  {
   "cell_type": "code",
   "execution_count": 95,
   "id": "crude-terrace",
   "metadata": {},
   "outputs": [
    {
     "data": {
      "text/plain": [
       "customer_id                     0\n",
       "Name                            0\n",
       "age                             0\n",
       "gender                          0\n",
       "security_no                     0\n",
       "region_category                 0\n",
       "membership_category             0\n",
       "joining_date                    0\n",
       "joined_through_referral         0\n",
       "referral_id                     0\n",
       "preferred_offer_types           0\n",
       "medium_of_operation             0\n",
       "internet_option                 0\n",
       "last_visit_time                 0\n",
       "days_since_last_login           0\n",
       "avg_time_spent                  0\n",
       "avg_transaction_value           0\n",
       "avg_frequency_login_days        0\n",
       "points_in_wallet                0\n",
       "used_special_discount           0\n",
       "offer_application_preference    0\n",
       "past_complaint                  0\n",
       "complaint_status                0\n",
       "feedback                        0\n",
       "churn_risk_score                0\n",
       "dtype: int64"
      ]
     },
     "execution_count": 95,
     "metadata": {},
     "output_type": "execute_result"
    }
   ],
   "source": [
    "train.isnull().sum()"
   ]
  },
  {
   "cell_type": "code",
   "execution_count": 147,
   "id": "related-collection",
   "metadata": {},
   "outputs": [],
   "source": [
    "train=train.dropna(axis=0,subset=['region_category'])"
   ]
  },
  {
   "cell_type": "code",
   "execution_count": 148,
   "id": "excessive-universe",
   "metadata": {},
   "outputs": [
    {
     "data": {
      "application/javascript": [
       "\n",
       "        if (window._pyforest_update_imports_cell) { window._pyforest_update_imports_cell('import numpy as np\\nfrom sklearn.model_selection import train_test_split'); }\n",
       "    "
      ],
      "text/plain": [
       "<IPython.core.display.Javascript object>"
      ]
     },
     "metadata": {},
     "output_type": "display_data"
    }
   ],
   "source": [
    "train.points_in_wallet=train.points_in_wallet.fillna(np.mean(train.points_in_wallet))"
   ]
  },
  {
   "cell_type": "code",
   "execution_count": 149,
   "id": "bronze-gabriel",
   "metadata": {},
   "outputs": [
    {
     "data": {
      "text/plain": [
       "Gift Vouchers/Coupons       10538\n",
       "Credit/Debit Card Offers    10476\n",
       "Without Offers              10311\n",
       "Name: preferred_offer_types, dtype: int64"
      ]
     },
     "execution_count": 149,
     "metadata": {},
     "output_type": "execute_result"
    }
   ],
   "source": [
    "train.preferred_offer_types.value_counts()"
   ]
  },
  {
   "cell_type": "code",
   "execution_count": 150,
   "id": "assisted-circle",
   "metadata": {},
   "outputs": [],
   "source": [
    "train=train.dropna(axis=0,subset=['preferred_offer_types'])"
   ]
  },
  {
   "cell_type": "code",
   "execution_count": 151,
   "id": "lyric-designer",
   "metadata": {},
   "outputs": [
    {
     "name": "stdout",
     "output_type": "stream",
     "text": [
      "<class 'pandas.core.frame.DataFrame'>\n",
      "Int64Index: 31325 entries, 0 to 36991\n",
      "Data columns (total 25 columns):\n",
      " #   Column                        Non-Null Count  Dtype  \n",
      "---  ------                        --------------  -----  \n",
      " 0   customer_id                   31325 non-null  object \n",
      " 1   Name                          31325 non-null  object \n",
      " 2   age                           31325 non-null  int64  \n",
      " 3   gender                        31325 non-null  object \n",
      " 4   security_no                   31325 non-null  object \n",
      " 5   region_category               31325 non-null  object \n",
      " 6   membership_category           31325 non-null  object \n",
      " 7   joining_date                  31325 non-null  object \n",
      " 8   joined_through_referral       31325 non-null  object \n",
      " 9   referral_id                   31325 non-null  object \n",
      " 10  preferred_offer_types         31325 non-null  object \n",
      " 11  medium_of_operation           31325 non-null  object \n",
      " 12  internet_option               31325 non-null  object \n",
      " 13  last_visit_time               31325 non-null  object \n",
      " 14  days_since_last_login         31325 non-null  int64  \n",
      " 15  avg_time_spent                31325 non-null  float64\n",
      " 16  avg_transaction_value         31325 non-null  float64\n",
      " 17  avg_frequency_login_days      31325 non-null  object \n",
      " 18  points_in_wallet              31325 non-null  float64\n",
      " 19  used_special_discount         31325 non-null  object \n",
      " 20  offer_application_preference  31325 non-null  object \n",
      " 21  past_complaint                31325 non-null  object \n",
      " 22  complaint_status              31325 non-null  object \n",
      " 23  feedback                      31325 non-null  object \n",
      " 24  churn_risk_score              31325 non-null  int64  \n",
      "dtypes: float64(3), int64(3), object(19)\n",
      "memory usage: 6.2+ MB\n"
     ]
    }
   ],
   "source": [
    "train.info()"
   ]
  },
  {
   "cell_type": "code",
   "execution_count": 152,
   "id": "ordered-cooper",
   "metadata": {},
   "outputs": [
    {
     "data": {
      "text/plain": [
       "array(['Products always in Stock', 'Quality Customer Care',\n",
       "       'Poor Website', 'No reason specified', 'Poor Customer Service',\n",
       "       'Poor Product Quality', 'Too many ads', 'User Friendly Website',\n",
       "       'Reasonable Price'], dtype=object)"
      ]
     },
     "execution_count": 152,
     "metadata": {},
     "output_type": "execute_result"
    }
   ],
   "source": [
    "train.feedback.unique()"
   ]
  },
  {
   "cell_type": "code",
   "execution_count": 153,
   "id": "legal-individual",
   "metadata": {},
   "outputs": [],
   "source": [
    "train=train.drop(['customer_id','Name','security_no','joining_date','referral_id','medium_of_operation','internet_option','last_visit_time'],axis=1)"
   ]
  },
  {
   "cell_type": "code",
   "execution_count": 154,
   "id": "successful-caution",
   "metadata": {},
   "outputs": [
    {
     "name": "stdout",
     "output_type": "stream",
     "text": [
      "<class 'pandas.core.frame.DataFrame'>\n",
      "Int64Index: 31325 entries, 0 to 36991\n",
      "Data columns (total 17 columns):\n",
      " #   Column                        Non-Null Count  Dtype  \n",
      "---  ------                        --------------  -----  \n",
      " 0   age                           31325 non-null  int64  \n",
      " 1   gender                        31325 non-null  object \n",
      " 2   region_category               31325 non-null  object \n",
      " 3   membership_category           31325 non-null  object \n",
      " 4   joined_through_referral       31325 non-null  object \n",
      " 5   preferred_offer_types         31325 non-null  object \n",
      " 6   days_since_last_login         31325 non-null  int64  \n",
      " 7   avg_time_spent                31325 non-null  float64\n",
      " 8   avg_transaction_value         31325 non-null  float64\n",
      " 9   avg_frequency_login_days      31325 non-null  object \n",
      " 10  points_in_wallet              31325 non-null  float64\n",
      " 11  used_special_discount         31325 non-null  object \n",
      " 12  offer_application_preference  31325 non-null  object \n",
      " 13  past_complaint                31325 non-null  object \n",
      " 14  complaint_status              31325 non-null  object \n",
      " 15  feedback                      31325 non-null  object \n",
      " 16  churn_risk_score              31325 non-null  int64  \n",
      "dtypes: float64(3), int64(3), object(11)\n",
      "memory usage: 4.3+ MB\n"
     ]
    }
   ],
   "source": [
    "train.info()"
   ]
  },
  {
   "cell_type": "code",
   "execution_count": 155,
   "id": "premier-municipality",
   "metadata": {},
   "outputs": [],
   "source": [
    "a=[]\n",
    "for i in train.age:\n",
    "    if i<35:\n",
    "        a.append('adults')\n",
    "        \n",
    "    elif i>=35 and i<55:\n",
    "        a.append('middle-aged adults')\n",
    "    else:\n",
    "        a.append('older adults')\n",
    "        "
   ]
  },
  {
   "cell_type": "code",
   "execution_count": 118,
   "id": "limiting-couple",
   "metadata": {},
   "outputs": [
    {
     "data": {
      "text/plain": [
       "{'adults', 'middle-aged adults'}"
      ]
     },
     "execution_count": 118,
     "metadata": {},
     "output_type": "execute_result"
    }
   ],
   "source": [
    "set(['adults' if 10>i or i<35 else 'middle-aged adults' if i>=35 or i<55 else 'older adults' for i in train.age ])"
   ]
  },
  {
   "cell_type": "code",
   "execution_count": 156,
   "id": "bound-judgment",
   "metadata": {},
   "outputs": [
    {
     "data": {
      "text/plain": [
       "array([18, 32, 44, 37, 31, 13, 21, 45, 25, 60, 11, 34, 40, 16, 57, 39, 33,\n",
       "       30, 19, 48, 43, 29, 10, 20, 61, 17, 12, 52, 26, 49, 24, 22, 36, 58,\n",
       "       41, 50, 23, 38, 35, 28, 53, 55, 59, 47, 54, 62, 51, 56, 42, 27, 14,\n",
       "       46, 15, 64, 63])"
      ]
     },
     "execution_count": 156,
     "metadata": {},
     "output_type": "execute_result"
    }
   ],
   "source": [
    "train.age.unique()"
   ]
  },
  {
   "cell_type": "code",
   "execution_count": 157,
   "id": "turkish-institute",
   "metadata": {},
   "outputs": [
    {
     "data": {
      "text/plain": [
       "31325"
      ]
     },
     "execution_count": 157,
     "metadata": {},
     "output_type": "execute_result"
    }
   ],
   "source": [
    "pd.Series(a).value_counts().values.sum()"
   ]
  },
  {
   "cell_type": "code",
   "execution_count": 158,
   "id": "hired-english",
   "metadata": {},
   "outputs": [],
   "source": [
    "train['new_age']=a"
   ]
  },
  {
   "cell_type": "code",
   "execution_count": 159,
   "id": "passing-investment",
   "metadata": {},
   "outputs": [],
   "source": [
    "train=train.drop(['age'],axis=1)"
   ]
  },
  {
   "cell_type": "code",
   "execution_count": 160,
   "id": "homeless-instrument",
   "metadata": {},
   "outputs": [
    {
     "data": {
      "text/html": [
       "<div>\n",
       "<style scoped>\n",
       "    .dataframe tbody tr th:only-of-type {\n",
       "        vertical-align: middle;\n",
       "    }\n",
       "\n",
       "    .dataframe tbody tr th {\n",
       "        vertical-align: top;\n",
       "    }\n",
       "\n",
       "    .dataframe thead th {\n",
       "        text-align: right;\n",
       "    }\n",
       "</style>\n",
       "<table border=\"1\" class=\"dataframe\">\n",
       "  <thead>\n",
       "    <tr style=\"text-align: right;\">\n",
       "      <th></th>\n",
       "      <th>gender</th>\n",
       "      <th>region_category</th>\n",
       "      <th>membership_category</th>\n",
       "      <th>joined_through_referral</th>\n",
       "      <th>preferred_offer_types</th>\n",
       "      <th>days_since_last_login</th>\n",
       "      <th>avg_time_spent</th>\n",
       "      <th>avg_transaction_value</th>\n",
       "      <th>avg_frequency_login_days</th>\n",
       "      <th>points_in_wallet</th>\n",
       "      <th>used_special_discount</th>\n",
       "      <th>offer_application_preference</th>\n",
       "      <th>past_complaint</th>\n",
       "      <th>complaint_status</th>\n",
       "      <th>feedback</th>\n",
       "      <th>churn_risk_score</th>\n",
       "      <th>new_age</th>\n",
       "    </tr>\n",
       "  </thead>\n",
       "  <tbody>\n",
       "    <tr>\n",
       "      <th>0</th>\n",
       "      <td>F</td>\n",
       "      <td>Village</td>\n",
       "      <td>Platinum Membership</td>\n",
       "      <td>No</td>\n",
       "      <td>Gift Vouchers/Coupons</td>\n",
       "      <td>17</td>\n",
       "      <td>300.630000</td>\n",
       "      <td>53005.25</td>\n",
       "      <td>17.0</td>\n",
       "      <td>781.750000</td>\n",
       "      <td>Yes</td>\n",
       "      <td>Yes</td>\n",
       "      <td>No</td>\n",
       "      <td>Not Applicable</td>\n",
       "      <td>Products always in Stock</td>\n",
       "      <td>2</td>\n",
       "      <td>adults</td>\n",
       "    </tr>\n",
       "    <tr>\n",
       "      <th>1</th>\n",
       "      <td>F</td>\n",
       "      <td>City</td>\n",
       "      <td>Premium Membership</td>\n",
       "      <td>?</td>\n",
       "      <td>Gift Vouchers/Coupons</td>\n",
       "      <td>16</td>\n",
       "      <td>306.340000</td>\n",
       "      <td>12838.38</td>\n",
       "      <td>10.0</td>\n",
       "      <td>687.916765</td>\n",
       "      <td>Yes</td>\n",
       "      <td>No</td>\n",
       "      <td>Yes</td>\n",
       "      <td>Solved</td>\n",
       "      <td>Quality Customer Care</td>\n",
       "      <td>1</td>\n",
       "      <td>adults</td>\n",
       "    </tr>\n",
       "    <tr>\n",
       "      <th>2</th>\n",
       "      <td>F</td>\n",
       "      <td>Town</td>\n",
       "      <td>No Membership</td>\n",
       "      <td>Yes</td>\n",
       "      <td>Gift Vouchers/Coupons</td>\n",
       "      <td>14</td>\n",
       "      <td>516.160000</td>\n",
       "      <td>21027.00</td>\n",
       "      <td>22.0</td>\n",
       "      <td>500.690000</td>\n",
       "      <td>No</td>\n",
       "      <td>Yes</td>\n",
       "      <td>Yes</td>\n",
       "      <td>Solved in Follow-up</td>\n",
       "      <td>Poor Website</td>\n",
       "      <td>5</td>\n",
       "      <td>middle-aged adults</td>\n",
       "    </tr>\n",
       "    <tr>\n",
       "      <th>3</th>\n",
       "      <td>M</td>\n",
       "      <td>City</td>\n",
       "      <td>No Membership</td>\n",
       "      <td>Yes</td>\n",
       "      <td>Gift Vouchers/Coupons</td>\n",
       "      <td>11</td>\n",
       "      <td>53.270000</td>\n",
       "      <td>25239.56</td>\n",
       "      <td>6.0</td>\n",
       "      <td>567.660000</td>\n",
       "      <td>No</td>\n",
       "      <td>Yes</td>\n",
       "      <td>Yes</td>\n",
       "      <td>Unsolved</td>\n",
       "      <td>Poor Website</td>\n",
       "      <td>5</td>\n",
       "      <td>middle-aged adults</td>\n",
       "    </tr>\n",
       "    <tr>\n",
       "      <th>4</th>\n",
       "      <td>F</td>\n",
       "      <td>City</td>\n",
       "      <td>No Membership</td>\n",
       "      <td>No</td>\n",
       "      <td>Credit/Debit Card Offers</td>\n",
       "      <td>20</td>\n",
       "      <td>113.130000</td>\n",
       "      <td>24483.66</td>\n",
       "      <td>16.0</td>\n",
       "      <td>663.060000</td>\n",
       "      <td>No</td>\n",
       "      <td>Yes</td>\n",
       "      <td>Yes</td>\n",
       "      <td>Solved</td>\n",
       "      <td>Poor Website</td>\n",
       "      <td>5</td>\n",
       "      <td>adults</td>\n",
       "    </tr>\n",
       "    <tr>\n",
       "      <th>...</th>\n",
       "      <td>...</td>\n",
       "      <td>...</td>\n",
       "      <td>...</td>\n",
       "      <td>...</td>\n",
       "      <td>...</td>\n",
       "      <td>...</td>\n",
       "      <td>...</td>\n",
       "      <td>...</td>\n",
       "      <td>...</td>\n",
       "      <td>...</td>\n",
       "      <td>...</td>\n",
       "      <td>...</td>\n",
       "      <td>...</td>\n",
       "      <td>...</td>\n",
       "      <td>...</td>\n",
       "      <td>...</td>\n",
       "      <td>...</td>\n",
       "    </tr>\n",
       "    <tr>\n",
       "      <th>36985</th>\n",
       "      <td>F</td>\n",
       "      <td>Village</td>\n",
       "      <td>Premium Membership</td>\n",
       "      <td>No</td>\n",
       "      <td>Gift Vouchers/Coupons</td>\n",
       "      <td>13</td>\n",
       "      <td>418.380000</td>\n",
       "      <td>56397.21</td>\n",
       "      <td>7.0</td>\n",
       "      <td>725.890000</td>\n",
       "      <td>Yes</td>\n",
       "      <td>Yes</td>\n",
       "      <td>Yes</td>\n",
       "      <td>Unsolved</td>\n",
       "      <td>Products always in Stock</td>\n",
       "      <td>2</td>\n",
       "      <td>adults</td>\n",
       "    </tr>\n",
       "    <tr>\n",
       "      <th>36986</th>\n",
       "      <td>M</td>\n",
       "      <td>Town</td>\n",
       "      <td>Platinum Membership</td>\n",
       "      <td>Yes</td>\n",
       "      <td>Credit/Debit Card Offers</td>\n",
       "      <td>13</td>\n",
       "      <td>135.830000</td>\n",
       "      <td>8225.68</td>\n",
       "      <td>16.0</td>\n",
       "      <td>748.570000</td>\n",
       "      <td>Yes</td>\n",
       "      <td>No</td>\n",
       "      <td>No</td>\n",
       "      <td>Not Applicable</td>\n",
       "      <td>No reason specified</td>\n",
       "      <td>3</td>\n",
       "      <td>adults</td>\n",
       "    </tr>\n",
       "    <tr>\n",
       "      <th>36988</th>\n",
       "      <td>F</td>\n",
       "      <td>Town</td>\n",
       "      <td>Basic Membership</td>\n",
       "      <td>No</td>\n",
       "      <td>Without Offers</td>\n",
       "      <td>13</td>\n",
       "      <td>-638.123421</td>\n",
       "      <td>11069.71</td>\n",
       "      <td>28.0</td>\n",
       "      <td>527.990000</td>\n",
       "      <td>Yes</td>\n",
       "      <td>No</td>\n",
       "      <td>No</td>\n",
       "      <td>Not Applicable</td>\n",
       "      <td>Poor Customer Service</td>\n",
       "      <td>5</td>\n",
       "      <td>adults</td>\n",
       "    </tr>\n",
       "    <tr>\n",
       "      <th>36990</th>\n",
       "      <td>M</td>\n",
       "      <td>Village</td>\n",
       "      <td>Platinum Membership</td>\n",
       "      <td>No</td>\n",
       "      <td>Gift Vouchers/Coupons</td>\n",
       "      <td>15</td>\n",
       "      <td>482.610000</td>\n",
       "      <td>2378.86</td>\n",
       "      <td>20.0</td>\n",
       "      <td>197.264414</td>\n",
       "      <td>Yes</td>\n",
       "      <td>Yes</td>\n",
       "      <td>No</td>\n",
       "      <td>Not Applicable</td>\n",
       "      <td>No reason specified</td>\n",
       "      <td>3</td>\n",
       "      <td>middle-aged adults</td>\n",
       "    </tr>\n",
       "    <tr>\n",
       "      <th>36991</th>\n",
       "      <td>M</td>\n",
       "      <td>Town</td>\n",
       "      <td>Silver Membership</td>\n",
       "      <td>No</td>\n",
       "      <td>Gift Vouchers/Coupons</td>\n",
       "      <td>15</td>\n",
       "      <td>79.180000</td>\n",
       "      <td>2189.68</td>\n",
       "      <td>Error</td>\n",
       "      <td>719.970000</td>\n",
       "      <td>Yes</td>\n",
       "      <td>No</td>\n",
       "      <td>No</td>\n",
       "      <td>Not Applicable</td>\n",
       "      <td>Quality Customer Care</td>\n",
       "      <td>2</td>\n",
       "      <td>middle-aged adults</td>\n",
       "    </tr>\n",
       "  </tbody>\n",
       "</table>\n",
       "<p>31325 rows × 17 columns</p>\n",
       "</div>"
      ],
      "text/plain": [
       "      gender region_category  membership_category joined_through_referral  \\\n",
       "0          F         Village  Platinum Membership                      No   \n",
       "1          F            City   Premium Membership                       ?   \n",
       "2          F            Town        No Membership                     Yes   \n",
       "3          M            City        No Membership                     Yes   \n",
       "4          F            City        No Membership                      No   \n",
       "...      ...             ...                  ...                     ...   \n",
       "36985      F         Village   Premium Membership                      No   \n",
       "36986      M            Town  Platinum Membership                     Yes   \n",
       "36988      F            Town     Basic Membership                      No   \n",
       "36990      M         Village  Platinum Membership                      No   \n",
       "36991      M            Town    Silver Membership                      No   \n",
       "\n",
       "          preferred_offer_types  days_since_last_login  avg_time_spent  \\\n",
       "0         Gift Vouchers/Coupons                     17      300.630000   \n",
       "1         Gift Vouchers/Coupons                     16      306.340000   \n",
       "2         Gift Vouchers/Coupons                     14      516.160000   \n",
       "3         Gift Vouchers/Coupons                     11       53.270000   \n",
       "4      Credit/Debit Card Offers                     20      113.130000   \n",
       "...                         ...                    ...             ...   \n",
       "36985     Gift Vouchers/Coupons                     13      418.380000   \n",
       "36986  Credit/Debit Card Offers                     13      135.830000   \n",
       "36988            Without Offers                     13     -638.123421   \n",
       "36990     Gift Vouchers/Coupons                     15      482.610000   \n",
       "36991     Gift Vouchers/Coupons                     15       79.180000   \n",
       "\n",
       "       avg_transaction_value avg_frequency_login_days  points_in_wallet  \\\n",
       "0                   53005.25                     17.0        781.750000   \n",
       "1                   12838.38                     10.0        687.916765   \n",
       "2                   21027.00                     22.0        500.690000   \n",
       "3                   25239.56                      6.0        567.660000   \n",
       "4                   24483.66                     16.0        663.060000   \n",
       "...                      ...                      ...               ...   \n",
       "36985               56397.21                      7.0        725.890000   \n",
       "36986                8225.68                     16.0        748.570000   \n",
       "36988               11069.71                     28.0        527.990000   \n",
       "36990                2378.86                     20.0        197.264414   \n",
       "36991                2189.68                    Error        719.970000   \n",
       "\n",
       "      used_special_discount offer_application_preference past_complaint  \\\n",
       "0                       Yes                          Yes             No   \n",
       "1                       Yes                           No            Yes   \n",
       "2                        No                          Yes            Yes   \n",
       "3                        No                          Yes            Yes   \n",
       "4                        No                          Yes            Yes   \n",
       "...                     ...                          ...            ...   \n",
       "36985                   Yes                          Yes            Yes   \n",
       "36986                   Yes                           No             No   \n",
       "36988                   Yes                           No             No   \n",
       "36990                   Yes                          Yes             No   \n",
       "36991                   Yes                           No             No   \n",
       "\n",
       "          complaint_status                  feedback  churn_risk_score  \\\n",
       "0           Not Applicable  Products always in Stock                 2   \n",
       "1                   Solved     Quality Customer Care                 1   \n",
       "2      Solved in Follow-up              Poor Website                 5   \n",
       "3                 Unsolved              Poor Website                 5   \n",
       "4                   Solved              Poor Website                 5   \n",
       "...                    ...                       ...               ...   \n",
       "36985             Unsolved  Products always in Stock                 2   \n",
       "36986       Not Applicable       No reason specified                 3   \n",
       "36988       Not Applicable     Poor Customer Service                 5   \n",
       "36990       Not Applicable       No reason specified                 3   \n",
       "36991       Not Applicable     Quality Customer Care                 2   \n",
       "\n",
       "                  new_age  \n",
       "0                  adults  \n",
       "1                  adults  \n",
       "2      middle-aged adults  \n",
       "3      middle-aged adults  \n",
       "4                  adults  \n",
       "...                   ...  \n",
       "36985              adults  \n",
       "36986              adults  \n",
       "36988              adults  \n",
       "36990  middle-aged adults  \n",
       "36991  middle-aged adults  \n",
       "\n",
       "[31325 rows x 17 columns]"
      ]
     },
     "execution_count": 160,
     "metadata": {},
     "output_type": "execute_result"
    }
   ],
   "source": [
    "train"
   ]
  },
  {
   "cell_type": "code",
   "execution_count": 161,
   "id": "alternative-local",
   "metadata": {},
   "outputs": [],
   "source": [
    "from sklearn.preprocessing import LabelEncoder,StandardScaler"
   ]
  },
  {
   "cell_type": "code",
   "execution_count": 162,
   "id": "matched-correspondence",
   "metadata": {},
   "outputs": [
    {
     "data": {
      "text/plain": [
       "array(['Gift Vouchers/Coupons', 'Credit/Debit Card Offers',\n",
       "       'Without Offers'], dtype=object)"
      ]
     },
     "execution_count": 162,
     "metadata": {},
     "output_type": "execute_result"
    }
   ],
   "source": [
    "train.preferred_offer_types.unique()"
   ]
  },
  {
   "cell_type": "code",
   "execution_count": 163,
   "id": "worst-terry",
   "metadata": {},
   "outputs": [],
   "source": [
    "le_gender=LabelEncoder()\n",
    "le_new_age=LabelEncoder()\n",
    "le_joined_through_referral=LabelEncoder()\n",
    "le_used_special_discount=LabelEncoder()\n",
    "le_offer_application_preference=LabelEncoder()\n",
    "le_past_complaint=LabelEncoder()"
   ]
  },
  {
   "cell_type": "code",
   "execution_count": 168,
   "id": "trained-future",
   "metadata": {},
   "outputs": [],
   "source": [
    "le_region_cate=LabelEncoder()"
   ]
  },
  {
   "cell_type": "code",
   "execution_count": 164,
   "id": "thrown-principle",
   "metadata": {},
   "outputs": [],
   "source": [
    "le_membership_cat=LabelEncoder()\n",
    "le_preferred_off_ty=LabelEncoder()\n",
    "le_complain_stat=LabelEncoder()\n",
    "le_feedback=LabelEncoder()"
   ]
  },
  {
   "cell_type": "code",
   "execution_count": 166,
   "id": "accurate-therapy",
   "metadata": {},
   "outputs": [],
   "source": [
    "train.gender=le_gender.fit_transform(train.gender)\n",
    "train.new_age=le_new_age.fit_transform(train.new_age)\n",
    "train.joined_through_referral=le_joined_through_referral.fit_transform(train.joined_through_referral)\n",
    "train.used_special_discount=le_used_special_discount.fit_transform(train.used_special_discount)\n",
    "train.offer_application_preference=le_offer_application_preference.fit_transform(train.offer_application_preference)\n",
    "train.past_complaint=le_past_complaint.fit_transform(train.past_complaint)\n",
    "train.membership_category=le_membership_cat.fit_transform(train.membership_category)\n",
    "train.preferred_offer_types=le_preferred_off_ty.fit_transform(train.preferred_offer_types)\n",
    "train.complaint_status=le_complain_stat.fit_transform(train.complaint_status)\n",
    "train.feedback=le_feedback.fit_transform(train.feedback)"
   ]
  },
  {
   "cell_type": "code",
   "execution_count": 169,
   "id": "polyphonic-catering",
   "metadata": {},
   "outputs": [],
   "source": [
    "train.region_category=le_region_cate.fit_transform(train.region_category)"
   ]
  },
  {
   "cell_type": "code",
   "execution_count": 170,
   "id": "overhead-distribution",
   "metadata": {},
   "outputs": [
    {
     "data": {
      "text/html": [
       "<div>\n",
       "<style scoped>\n",
       "    .dataframe tbody tr th:only-of-type {\n",
       "        vertical-align: middle;\n",
       "    }\n",
       "\n",
       "    .dataframe tbody tr th {\n",
       "        vertical-align: top;\n",
       "    }\n",
       "\n",
       "    .dataframe thead th {\n",
       "        text-align: right;\n",
       "    }\n",
       "</style>\n",
       "<table border=\"1\" class=\"dataframe\">\n",
       "  <thead>\n",
       "    <tr style=\"text-align: right;\">\n",
       "      <th></th>\n",
       "      <th>gender</th>\n",
       "      <th>region_category</th>\n",
       "      <th>membership_category</th>\n",
       "      <th>joined_through_referral</th>\n",
       "      <th>preferred_offer_types</th>\n",
       "      <th>days_since_last_login</th>\n",
       "      <th>avg_time_spent</th>\n",
       "      <th>avg_transaction_value</th>\n",
       "      <th>avg_frequency_login_days</th>\n",
       "      <th>points_in_wallet</th>\n",
       "      <th>used_special_discount</th>\n",
       "      <th>offer_application_preference</th>\n",
       "      <th>past_complaint</th>\n",
       "      <th>complaint_status</th>\n",
       "      <th>feedback</th>\n",
       "      <th>churn_risk_score</th>\n",
       "      <th>new_age</th>\n",
       "    </tr>\n",
       "  </thead>\n",
       "  <tbody>\n",
       "    <tr>\n",
       "      <th>0</th>\n",
       "      <td>0</td>\n",
       "      <td>2</td>\n",
       "      <td>3</td>\n",
       "      <td>1</td>\n",
       "      <td>1</td>\n",
       "      <td>17</td>\n",
       "      <td>300.630000</td>\n",
       "      <td>53005.25</td>\n",
       "      <td>17.0</td>\n",
       "      <td>781.750000</td>\n",
       "      <td>1</td>\n",
       "      <td>1</td>\n",
       "      <td>0</td>\n",
       "      <td>1</td>\n",
       "      <td>4</td>\n",
       "      <td>2</td>\n",
       "      <td>0</td>\n",
       "    </tr>\n",
       "    <tr>\n",
       "      <th>1</th>\n",
       "      <td>0</td>\n",
       "      <td>0</td>\n",
       "      <td>4</td>\n",
       "      <td>0</td>\n",
       "      <td>1</td>\n",
       "      <td>16</td>\n",
       "      <td>306.340000</td>\n",
       "      <td>12838.38</td>\n",
       "      <td>10.0</td>\n",
       "      <td>687.916765</td>\n",
       "      <td>1</td>\n",
       "      <td>0</td>\n",
       "      <td>1</td>\n",
       "      <td>2</td>\n",
       "      <td>5</td>\n",
       "      <td>1</td>\n",
       "      <td>0</td>\n",
       "    </tr>\n",
       "    <tr>\n",
       "      <th>2</th>\n",
       "      <td>0</td>\n",
       "      <td>1</td>\n",
       "      <td>2</td>\n",
       "      <td>2</td>\n",
       "      <td>1</td>\n",
       "      <td>14</td>\n",
       "      <td>516.160000</td>\n",
       "      <td>21027.00</td>\n",
       "      <td>22.0</td>\n",
       "      <td>500.690000</td>\n",
       "      <td>0</td>\n",
       "      <td>1</td>\n",
       "      <td>1</td>\n",
       "      <td>3</td>\n",
       "      <td>3</td>\n",
       "      <td>5</td>\n",
       "      <td>1</td>\n",
       "    </tr>\n",
       "    <tr>\n",
       "      <th>3</th>\n",
       "      <td>1</td>\n",
       "      <td>0</td>\n",
       "      <td>2</td>\n",
       "      <td>2</td>\n",
       "      <td>1</td>\n",
       "      <td>11</td>\n",
       "      <td>53.270000</td>\n",
       "      <td>25239.56</td>\n",
       "      <td>6.0</td>\n",
       "      <td>567.660000</td>\n",
       "      <td>0</td>\n",
       "      <td>1</td>\n",
       "      <td>1</td>\n",
       "      <td>4</td>\n",
       "      <td>3</td>\n",
       "      <td>5</td>\n",
       "      <td>1</td>\n",
       "    </tr>\n",
       "    <tr>\n",
       "      <th>4</th>\n",
       "      <td>0</td>\n",
       "      <td>0</td>\n",
       "      <td>2</td>\n",
       "      <td>1</td>\n",
       "      <td>0</td>\n",
       "      <td>20</td>\n",
       "      <td>113.130000</td>\n",
       "      <td>24483.66</td>\n",
       "      <td>16.0</td>\n",
       "      <td>663.060000</td>\n",
       "      <td>0</td>\n",
       "      <td>1</td>\n",
       "      <td>1</td>\n",
       "      <td>2</td>\n",
       "      <td>3</td>\n",
       "      <td>5</td>\n",
       "      <td>0</td>\n",
       "    </tr>\n",
       "    <tr>\n",
       "      <th>...</th>\n",
       "      <td>...</td>\n",
       "      <td>...</td>\n",
       "      <td>...</td>\n",
       "      <td>...</td>\n",
       "      <td>...</td>\n",
       "      <td>...</td>\n",
       "      <td>...</td>\n",
       "      <td>...</td>\n",
       "      <td>...</td>\n",
       "      <td>...</td>\n",
       "      <td>...</td>\n",
       "      <td>...</td>\n",
       "      <td>...</td>\n",
       "      <td>...</td>\n",
       "      <td>...</td>\n",
       "      <td>...</td>\n",
       "      <td>...</td>\n",
       "    </tr>\n",
       "    <tr>\n",
       "      <th>36985</th>\n",
       "      <td>0</td>\n",
       "      <td>2</td>\n",
       "      <td>4</td>\n",
       "      <td>1</td>\n",
       "      <td>1</td>\n",
       "      <td>13</td>\n",
       "      <td>418.380000</td>\n",
       "      <td>56397.21</td>\n",
       "      <td>7.0</td>\n",
       "      <td>725.890000</td>\n",
       "      <td>1</td>\n",
       "      <td>1</td>\n",
       "      <td>1</td>\n",
       "      <td>4</td>\n",
       "      <td>4</td>\n",
       "      <td>2</td>\n",
       "      <td>0</td>\n",
       "    </tr>\n",
       "    <tr>\n",
       "      <th>36986</th>\n",
       "      <td>1</td>\n",
       "      <td>1</td>\n",
       "      <td>3</td>\n",
       "      <td>2</td>\n",
       "      <td>0</td>\n",
       "      <td>13</td>\n",
       "      <td>135.830000</td>\n",
       "      <td>8225.68</td>\n",
       "      <td>16.0</td>\n",
       "      <td>748.570000</td>\n",
       "      <td>1</td>\n",
       "      <td>0</td>\n",
       "      <td>0</td>\n",
       "      <td>1</td>\n",
       "      <td>0</td>\n",
       "      <td>3</td>\n",
       "      <td>0</td>\n",
       "    </tr>\n",
       "    <tr>\n",
       "      <th>36988</th>\n",
       "      <td>0</td>\n",
       "      <td>1</td>\n",
       "      <td>0</td>\n",
       "      <td>1</td>\n",
       "      <td>2</td>\n",
       "      <td>13</td>\n",
       "      <td>-638.123421</td>\n",
       "      <td>11069.71</td>\n",
       "      <td>28.0</td>\n",
       "      <td>527.990000</td>\n",
       "      <td>1</td>\n",
       "      <td>0</td>\n",
       "      <td>0</td>\n",
       "      <td>1</td>\n",
       "      <td>1</td>\n",
       "      <td>5</td>\n",
       "      <td>0</td>\n",
       "    </tr>\n",
       "    <tr>\n",
       "      <th>36990</th>\n",
       "      <td>1</td>\n",
       "      <td>2</td>\n",
       "      <td>3</td>\n",
       "      <td>1</td>\n",
       "      <td>1</td>\n",
       "      <td>15</td>\n",
       "      <td>482.610000</td>\n",
       "      <td>2378.86</td>\n",
       "      <td>20.0</td>\n",
       "      <td>197.264414</td>\n",
       "      <td>1</td>\n",
       "      <td>1</td>\n",
       "      <td>0</td>\n",
       "      <td>1</td>\n",
       "      <td>0</td>\n",
       "      <td>3</td>\n",
       "      <td>1</td>\n",
       "    </tr>\n",
       "    <tr>\n",
       "      <th>36991</th>\n",
       "      <td>1</td>\n",
       "      <td>1</td>\n",
       "      <td>5</td>\n",
       "      <td>1</td>\n",
       "      <td>1</td>\n",
       "      <td>15</td>\n",
       "      <td>79.180000</td>\n",
       "      <td>2189.68</td>\n",
       "      <td>Error</td>\n",
       "      <td>719.970000</td>\n",
       "      <td>1</td>\n",
       "      <td>0</td>\n",
       "      <td>0</td>\n",
       "      <td>1</td>\n",
       "      <td>5</td>\n",
       "      <td>2</td>\n",
       "      <td>1</td>\n",
       "    </tr>\n",
       "  </tbody>\n",
       "</table>\n",
       "<p>31325 rows × 17 columns</p>\n",
       "</div>"
      ],
      "text/plain": [
       "       gender  region_category  membership_category  joined_through_referral  \\\n",
       "0           0                2                    3                        1   \n",
       "1           0                0                    4                        0   \n",
       "2           0                1                    2                        2   \n",
       "3           1                0                    2                        2   \n",
       "4           0                0                    2                        1   \n",
       "...       ...              ...                  ...                      ...   \n",
       "36985       0                2                    4                        1   \n",
       "36986       1                1                    3                        2   \n",
       "36988       0                1                    0                        1   \n",
       "36990       1                2                    3                        1   \n",
       "36991       1                1                    5                        1   \n",
       "\n",
       "       preferred_offer_types  days_since_last_login  avg_time_spent  \\\n",
       "0                          1                     17      300.630000   \n",
       "1                          1                     16      306.340000   \n",
       "2                          1                     14      516.160000   \n",
       "3                          1                     11       53.270000   \n",
       "4                          0                     20      113.130000   \n",
       "...                      ...                    ...             ...   \n",
       "36985                      1                     13      418.380000   \n",
       "36986                      0                     13      135.830000   \n",
       "36988                      2                     13     -638.123421   \n",
       "36990                      1                     15      482.610000   \n",
       "36991                      1                     15       79.180000   \n",
       "\n",
       "       avg_transaction_value avg_frequency_login_days  points_in_wallet  \\\n",
       "0                   53005.25                     17.0        781.750000   \n",
       "1                   12838.38                     10.0        687.916765   \n",
       "2                   21027.00                     22.0        500.690000   \n",
       "3                   25239.56                      6.0        567.660000   \n",
       "4                   24483.66                     16.0        663.060000   \n",
       "...                      ...                      ...               ...   \n",
       "36985               56397.21                      7.0        725.890000   \n",
       "36986                8225.68                     16.0        748.570000   \n",
       "36988               11069.71                     28.0        527.990000   \n",
       "36990                2378.86                     20.0        197.264414   \n",
       "36991                2189.68                    Error        719.970000   \n",
       "\n",
       "       used_special_discount  offer_application_preference  past_complaint  \\\n",
       "0                          1                             1               0   \n",
       "1                          1                             0               1   \n",
       "2                          0                             1               1   \n",
       "3                          0                             1               1   \n",
       "4                          0                             1               1   \n",
       "...                      ...                           ...             ...   \n",
       "36985                      1                             1               1   \n",
       "36986                      1                             0               0   \n",
       "36988                      1                             0               0   \n",
       "36990                      1                             1               0   \n",
       "36991                      1                             0               0   \n",
       "\n",
       "       complaint_status  feedback  churn_risk_score  new_age  \n",
       "0                     1         4                 2        0  \n",
       "1                     2         5                 1        0  \n",
       "2                     3         3                 5        1  \n",
       "3                     4         3                 5        1  \n",
       "4                     2         3                 5        0  \n",
       "...                 ...       ...               ...      ...  \n",
       "36985                 4         4                 2        0  \n",
       "36986                 1         0                 3        0  \n",
       "36988                 1         1                 5        0  \n",
       "36990                 1         0                 3        1  \n",
       "36991                 1         5                 2        1  \n",
       "\n",
       "[31325 rows x 17 columns]"
      ]
     },
     "execution_count": 170,
     "metadata": {},
     "output_type": "execute_result"
    }
   ],
   "source": [
    "train"
   ]
  },
  {
   "cell_type": "code",
   "execution_count": 174,
   "id": "offensive-notice",
   "metadata": {},
   "outputs": [],
   "source": [
    "train=train.drop(['avg_frequency_login_days'],axis=1)"
   ]
  },
  {
   "cell_type": "code",
   "execution_count": null,
   "id": "deluxe-measurement",
   "metadata": {},
   "outputs": [],
   "source": [
    "x=train.drop(['churn_risk_score'],axis=1)\n",
    "y=train.churn_risk_score"
   ]
  },
  {
   "cell_type": "code",
   "execution_count": 181,
   "id": "retired-riverside",
   "metadata": {},
   "outputs": [],
   "source": [
    "se=StandardScaler()"
   ]
  },
  {
   "cell_type": "code",
   "execution_count": 182,
   "id": "sublime-divorce",
   "metadata": {},
   "outputs": [],
   "source": [
    "train_scaled=se.fit_transform(x)"
   ]
  },
  {
   "cell_type": "code",
   "execution_count": 183,
   "id": "sized-monthly",
   "metadata": {},
   "outputs": [
    {
     "data": {
      "text/plain": [
       "(31325, 15)"
      ]
     },
     "execution_count": 183,
     "metadata": {},
     "output_type": "execute_result"
    }
   ],
   "source": [
    "train_scaled.shape"
   ]
  },
  {
   "cell_type": "code",
   "execution_count": null,
   "id": "separate-earthquake",
   "metadata": {},
   "outputs": [],
   "source": []
  },
  {
   "cell_type": "code",
   "execution_count": 184,
   "id": "indirect-singing",
   "metadata": {},
   "outputs": [],
   "source": [
    "x_train,x_test,y_train,y_test=train_test_split(x,y,test_size=0.3,random_state=42,stratify=y)"
   ]
  },
  {
   "cell_type": "code",
   "execution_count": 185,
   "id": "favorite-raleigh",
   "metadata": {},
   "outputs": [
    {
     "data": {
      "text/plain": [
       "(21927, 15)"
      ]
     },
     "execution_count": 185,
     "metadata": {},
     "output_type": "execute_result"
    }
   ],
   "source": [
    "x_train.shape"
   ]
  },
  {
   "cell_type": "code",
   "execution_count": 186,
   "id": "material-static",
   "metadata": {},
   "outputs": [
    {
     "data": {
      "text/plain": [
       "(21927,)"
      ]
     },
     "execution_count": 186,
     "metadata": {},
     "output_type": "execute_result"
    }
   ],
   "source": [
    "y_train.shape"
   ]
  },
  {
   "cell_type": "code",
   "execution_count": 187,
   "id": "traditional-motel",
   "metadata": {},
   "outputs": [
    {
     "data": {
      "text/plain": [
       "(9398, 15)"
      ]
     },
     "execution_count": 187,
     "metadata": {},
     "output_type": "execute_result"
    }
   ],
   "source": [
    "x_test.shape"
   ]
  },
  {
   "cell_type": "code",
   "execution_count": 188,
   "id": "traditional-audit",
   "metadata": {},
   "outputs": [
    {
     "data": {
      "text/plain": [
       "(9398,)"
      ]
     },
     "execution_count": 188,
     "metadata": {},
     "output_type": "execute_result"
    }
   ],
   "source": [
    "y_test.shape"
   ]
  },
  {
   "cell_type": "code",
   "execution_count": 191,
   "id": "given-smooth",
   "metadata": {},
   "outputs": [],
   "source": [
    "params={\n",
    "    'learning_rate':[0.05,0.1,0.15,0.20,0.25,0.30],\n",
    "    'max_depth':[2,4,6,8,10]\n",
    "}"
   ]
  },
  {
   "cell_type": "code",
   "execution_count": 193,
   "id": "secure-carbon",
   "metadata": {},
   "outputs": [],
   "source": [
    "model=GridSearchCV(GradientBoostingClassifier(n_estimators=100,random_state=42),params,n_jobs=1,cv=5)"
   ]
  },
  {
   "cell_type": "code",
   "execution_count": 195,
   "id": "distinguished-london",
   "metadata": {},
   "outputs": [],
   "source": [
    "model=GradientBoostingClassifier(n_estimators=100,max_depth=2)"
   ]
  },
  {
   "cell_type": "code",
   "execution_count": 196,
   "id": "sporting-thought",
   "metadata": {},
   "outputs": [
    {
     "data": {
      "text/plain": [
       "GradientBoostingClassifier(max_depth=2)"
      ]
     },
     "execution_count": 196,
     "metadata": {},
     "output_type": "execute_result"
    }
   ],
   "source": [
    "model.fit(x_train,y_train)"
   ]
  },
  {
   "cell_type": "code",
   "execution_count": 197,
   "id": "registered-ensemble",
   "metadata": {},
   "outputs": [
    {
     "data": {
      "text/plain": [
       "0.7600553309214727"
      ]
     },
     "execution_count": 197,
     "metadata": {},
     "output_type": "execute_result"
    }
   ],
   "source": [
    "model.score(x_test,y_test)"
   ]
  },
  {
   "cell_type": "code",
   "execution_count": 199,
   "id": "cooperative-letter",
   "metadata": {},
   "outputs": [],
   "source": [
    "y_pre=model.predict(x_test)"
   ]
  },
  {
   "cell_type": "code",
   "execution_count": 198,
   "id": "twelve-counter",
   "metadata": {},
   "outputs": [],
   "source": [
    "from sklearn.metrics import ConfusionMatrixDisplay"
   ]
  },
  {
   "cell_type": "code",
   "execution_count": 201,
   "id": "noticed-davis",
   "metadata": {},
   "outputs": [],
   "source": [
    "ConfusionMatrixDisplay(confusion_matrix=(y_test,y_pre))\n",
    "plt.show()"
   ]
  },
  {
   "cell_type": "code",
   "execution_count": 202,
   "id": "arranged-galaxy",
   "metadata": {},
   "outputs": [],
   "source": [
    "from sklearn.metrics import mean_squared_error,confusion_matrix,classification_report"
   ]
  },
  {
   "cell_type": "code",
   "execution_count": 205,
   "id": "interpreted-pollution",
   "metadata": {},
   "outputs": [],
   "source": [
    "cm=confusion_matrix(y_test,y_pre)"
   ]
  },
  {
   "cell_type": "code",
   "execution_count": 210,
   "id": "close-alloy",
   "metadata": {},
   "outputs": [
    {
     "data": {
      "image/png": "[encoded data removed]",
      "text/plain": [
       "<Figure size 1080x720 with 2 Axes>"
      ]
     },
     "metadata": {},
     "output_type": "display_data"
    }
   ],
   "source": [
    "plt.figure(figsize=(15,10))\n",
    "sns.set(font_scale=1.4) # for label size\n",
    "sns.heatmap(cm, annot=True, annot_kws={\"size\": 16}) # font size\n",
    "\n",
    "plt.show()\n"
   ]
  },
  {
   "cell_type": "code",
   "execution_count": 211,
   "id": "valid-faith",
   "metadata": {},
   "outputs": [
    {
     "data": {
      "text/plain": [
       "array([[   0,   28,   11,   82,   56,  120],\n",
       "       [   0,  587,   94,    0,    0,    0],\n",
       "       [   1,  242,  452,    0,    1,    0],\n",
       "       [   1,    0,    0, 2363,  289,    0],\n",
       "       [   1,    0,    0,  164, 1337, 1079],\n",
       "       [   0,    0,    0,    0,   86, 2404]])"
      ]
     },
     "execution_count": 211,
     "metadata": {},
     "output_type": "execute_result"
    }
   ],
   "source": [
    "cm"
   ]
  },
  {
   "cell_type": "code",
   "execution_count": 212,
   "id": "noble-friendly",
   "metadata": {},
   "outputs": [
    {
     "data": {
      "text/html": [
       "<div>\n",
       "<style scoped>\n",
       "    .dataframe tbody tr th:only-of-type {\n",
       "        vertical-align: middle;\n",
       "    }\n",
       "\n",
       "    .dataframe tbody tr th {\n",
       "        vertical-align: top;\n",
       "    }\n",
       "\n",
       "    .dataframe thead th {\n",
       "        text-align: right;\n",
       "    }\n",
       "</style>\n",
       "<table border=\"1\" class=\"dataframe\">\n",
       "  <thead>\n",
       "    <tr style=\"text-align: right;\">\n",
       "      <th></th>\n",
       "      <th>gender</th>\n",
       "      <th>region_category</th>\n",
       "      <th>membership_category</th>\n",
       "      <th>joined_through_referral</th>\n",
       "      <th>preferred_offer_types</th>\n",
       "      <th>days_since_last_login</th>\n",
       "      <th>avg_time_spent</th>\n",
       "      <th>avg_transaction_value</th>\n",
       "      <th>points_in_wallet</th>\n",
       "      <th>used_special_discount</th>\n",
       "      <th>offer_application_preference</th>\n",
       "      <th>past_complaint</th>\n",
       "      <th>complaint_status</th>\n",
       "      <th>feedback</th>\n",
       "      <th>new_age</th>\n",
       "    </tr>\n",
       "  </thead>\n",
       "  <tbody>\n",
       "    <tr>\n",
       "      <th>5584</th>\n",
       "      <td>0</td>\n",
       "      <td>2</td>\n",
       "      <td>0</td>\n",
       "      <td>1</td>\n",
       "      <td>0</td>\n",
       "      <td>22</td>\n",
       "      <td>186.68</td>\n",
       "      <td>45136.14</td>\n",
       "      <td>690.480000</td>\n",
       "      <td>1</td>\n",
       "      <td>0</td>\n",
       "      <td>1</td>\n",
       "      <td>3</td>\n",
       "      <td>7</td>\n",
       "      <td>2</td>\n",
       "    </tr>\n",
       "    <tr>\n",
       "      <th>35717</th>\n",
       "      <td>1</td>\n",
       "      <td>0</td>\n",
       "      <td>1</td>\n",
       "      <td>1</td>\n",
       "      <td>1</td>\n",
       "      <td>23</td>\n",
       "      <td>110.83</td>\n",
       "      <td>24556.14</td>\n",
       "      <td>450.645541</td>\n",
       "      <td>0</td>\n",
       "      <td>1</td>\n",
       "      <td>1</td>\n",
       "      <td>0</td>\n",
       "      <td>6</td>\n",
       "      <td>0</td>\n",
       "    </tr>\n",
       "    <tr>\n",
       "      <th>15547</th>\n",
       "      <td>1</td>\n",
       "      <td>0</td>\n",
       "      <td>2</td>\n",
       "      <td>1</td>\n",
       "      <td>0</td>\n",
       "      <td>10</td>\n",
       "      <td>291.12</td>\n",
       "      <td>35889.52</td>\n",
       "      <td>1185.296680</td>\n",
       "      <td>1</td>\n",
       "      <td>0</td>\n",
       "      <td>1</td>\n",
       "      <td>3</td>\n",
       "      <td>1</td>\n",
       "      <td>0</td>\n",
       "    </tr>\n",
       "    <tr>\n",
       "      <th>36983</th>\n",
       "      <td>1</td>\n",
       "      <td>1</td>\n",
       "      <td>0</td>\n",
       "      <td>2</td>\n",
       "      <td>2</td>\n",
       "      <td>9</td>\n",
       "      <td>49.33</td>\n",
       "      <td>45358.49</td>\n",
       "      <td>242.979625</td>\n",
       "      <td>1</td>\n",
       "      <td>0</td>\n",
       "      <td>0</td>\n",
       "      <td>1</td>\n",
       "      <td>1</td>\n",
       "      <td>1</td>\n",
       "    </tr>\n",
       "    <tr>\n",
       "      <th>27347</th>\n",
       "      <td>1</td>\n",
       "      <td>0</td>\n",
       "      <td>5</td>\n",
       "      <td>2</td>\n",
       "      <td>1</td>\n",
       "      <td>1</td>\n",
       "      <td>31.92</td>\n",
       "      <td>29130.95</td>\n",
       "      <td>796.850000</td>\n",
       "      <td>0</td>\n",
       "      <td>1</td>\n",
       "      <td>1</td>\n",
       "      <td>0</td>\n",
       "      <td>1</td>\n",
       "      <td>0</td>\n",
       "    </tr>\n",
       "    <tr>\n",
       "      <th>...</th>\n",
       "      <td>...</td>\n",
       "      <td>...</td>\n",
       "      <td>...</td>\n",
       "      <td>...</td>\n",
       "      <td>...</td>\n",
       "      <td>...</td>\n",
       "      <td>...</td>\n",
       "      <td>...</td>\n",
       "      <td>...</td>\n",
       "      <td>...</td>\n",
       "      <td>...</td>\n",
       "      <td>...</td>\n",
       "      <td>...</td>\n",
       "      <td>...</td>\n",
       "      <td>...</td>\n",
       "    </tr>\n",
       "    <tr>\n",
       "      <th>3743</th>\n",
       "      <td>0</td>\n",
       "      <td>1</td>\n",
       "      <td>1</td>\n",
       "      <td>0</td>\n",
       "      <td>2</td>\n",
       "      <td>12</td>\n",
       "      <td>37.25</td>\n",
       "      <td>37632.04</td>\n",
       "      <td>959.553161</td>\n",
       "      <td>0</td>\n",
       "      <td>1</td>\n",
       "      <td>0</td>\n",
       "      <td>1</td>\n",
       "      <td>2</td>\n",
       "      <td>1</td>\n",
       "    </tr>\n",
       "    <tr>\n",
       "      <th>1395</th>\n",
       "      <td>0</td>\n",
       "      <td>0</td>\n",
       "      <td>2</td>\n",
       "      <td>2</td>\n",
       "      <td>0</td>\n",
       "      <td>8</td>\n",
       "      <td>1020.30</td>\n",
       "      <td>15925.56</td>\n",
       "      <td>509.690000</td>\n",
       "      <td>1</td>\n",
       "      <td>0</td>\n",
       "      <td>1</td>\n",
       "      <td>4</td>\n",
       "      <td>2</td>\n",
       "      <td>1</td>\n",
       "    </tr>\n",
       "    <tr>\n",
       "      <th>12504</th>\n",
       "      <td>1</td>\n",
       "      <td>0</td>\n",
       "      <td>2</td>\n",
       "      <td>2</td>\n",
       "      <td>1</td>\n",
       "      <td>1</td>\n",
       "      <td>903.45</td>\n",
       "      <td>35284.11</td>\n",
       "      <td>686.330000</td>\n",
       "      <td>0</td>\n",
       "      <td>1</td>\n",
       "      <td>0</td>\n",
       "      <td>1</td>\n",
       "      <td>0</td>\n",
       "      <td>2</td>\n",
       "    </tr>\n",
       "    <tr>\n",
       "      <th>12365</th>\n",
       "      <td>0</td>\n",
       "      <td>0</td>\n",
       "      <td>4</td>\n",
       "      <td>2</td>\n",
       "      <td>0</td>\n",
       "      <td>22</td>\n",
       "      <td>67.08</td>\n",
       "      <td>18155.23</td>\n",
       "      <td>717.180000</td>\n",
       "      <td>0</td>\n",
       "      <td>1</td>\n",
       "      <td>1</td>\n",
       "      <td>0</td>\n",
       "      <td>1</td>\n",
       "      <td>0</td>\n",
       "    </tr>\n",
       "    <tr>\n",
       "      <th>12084</th>\n",
       "      <td>1</td>\n",
       "      <td>1</td>\n",
       "      <td>0</td>\n",
       "      <td>1</td>\n",
       "      <td>0</td>\n",
       "      <td>4</td>\n",
       "      <td>159.36</td>\n",
       "      <td>25649.68</td>\n",
       "      <td>551.320000</td>\n",
       "      <td>1</td>\n",
       "      <td>0</td>\n",
       "      <td>0</td>\n",
       "      <td>1</td>\n",
       "      <td>7</td>\n",
       "      <td>1</td>\n",
       "    </tr>\n",
       "  </tbody>\n",
       "</table>\n",
       "<p>9398 rows × 15 columns</p>\n",
       "</div>"
      ],
      "text/plain": [
       "       gender  region_category  membership_category  joined_through_referral  \\\n",
       "5584        0                2                    0                        1   \n",
       "35717       1                0                    1                        1   \n",
       "15547       1                0                    2                        1   \n",
       "36983       1                1                    0                        2   \n",
       "27347       1                0                    5                        2   \n",
       "...       ...              ...                  ...                      ...   \n",
       "3743        0                1                    1                        0   \n",
       "1395        0                0                    2                        2   \n",
       "12504       1                0                    2                        2   \n",
       "12365       0                0                    4                        2   \n",
       "12084       1                1                    0                        1   \n",
       "\n",
       "       preferred_offer_types  days_since_last_login  avg_time_spent  \\\n",
       "5584                       0                     22          186.68   \n",
       "35717                      1                     23          110.83   \n",
       "15547                      0                     10          291.12   \n",
       "36983                      2                      9           49.33   \n",
       "27347                      1                      1           31.92   \n",
       "...                      ...                    ...             ...   \n",
       "3743                       2                     12           37.25   \n",
       "1395                       0                      8         1020.30   \n",
       "12504                      1                      1          903.45   \n",
       "12365                      0                     22           67.08   \n",
       "12084                      0                      4          159.36   \n",
       "\n",
       "       avg_transaction_value  points_in_wallet  used_special_discount  \\\n",
       "5584                45136.14        690.480000                      1   \n",
       "35717               24556.14        450.645541                      0   \n",
       "15547               35889.52       1185.296680                      1   \n",
       "36983               45358.49        242.979625                      1   \n",
       "27347               29130.95        796.850000                      0   \n",
       "...                      ...               ...                    ...   \n",
       "3743                37632.04        959.553161                      0   \n",
       "1395                15925.56        509.690000                      1   \n",
       "12504               35284.11        686.330000                      0   \n",
       "12365               18155.23        717.180000                      0   \n",
       "12084               25649.68        551.320000                      1   \n",
       "\n",
       "       offer_application_preference  past_complaint  complaint_status  \\\n",
       "5584                              0               1                 3   \n",
       "35717                             1               1                 0   \n",
       "15547                             0               1                 3   \n",
       "36983                             0               0                 1   \n",
       "27347                             1               1                 0   \n",
       "...                             ...             ...               ...   \n",
       "3743                              1               0                 1   \n",
       "1395                              0               1                 4   \n",
       "12504                             1               0                 1   \n",
       "12365                             1               1                 0   \n",
       "12084                             0               0                 1   \n",
       "\n",
       "       feedback  new_age  \n",
       "5584          7        2  \n",
       "35717         6        0  \n",
       "15547         1        0  \n",
       "36983         1        1  \n",
       "27347         1        0  \n",
       "...         ...      ...  \n",
       "3743          2        1  \n",
       "1395          2        1  \n",
       "12504         0        2  \n",
       "12365         1        0  \n",
       "12084         7        1  \n",
       "\n",
       "[9398 rows x 15 columns]"
      ]
     },
     "execution_count": 212,
     "metadata": {},
     "output_type": "execute_result"
    }
   ],
   "source": [
    "x_test"
   ]
  },
  {
   "cell_type": "code",
   "execution_count": 215,
   "id": "going-fighter",
   "metadata": {},
   "outputs": [
    {
     "name": "stdout",
     "output_type": "stream",
     "text": [
      "              precision    recall  f1-score   support\n",
      "\n",
      "          -1       0.00      0.00      0.00       297\n",
      "           1       0.68      0.86      0.76       681\n",
      "           2       0.81      0.65      0.72       696\n",
      "           3       0.91      0.89      0.90      2653\n",
      "           4       0.76      0.52      0.61      2581\n",
      "           5       0.67      0.97      0.79      2490\n",
      "\n",
      "    accuracy                           0.76      9398\n",
      "   macro avg       0.64      0.65      0.63      9398\n",
      "weighted avg       0.75      0.76      0.74      9398\n",
      "\n"
     ]
    }
   ],
   "source": [
    "print(classification_report(y_test,y_pre))"
   ]
  },
  {
   "cell_type": "code",
   "execution_count": 221,
   "id": "otherwise-prime",
   "metadata": {},
   "outputs": [
    {
     "data": {
      "text/plain": [
       "-1    297\n",
       "Name: churn_risk_score, dtype: int64"
      ]
     },
     "execution_count": 221,
     "metadata": {},
     "output_type": "execute_result"
    }
   ],
   "source": [
    "y_test[y_test==-1].value_counts()"
   ]
  },
  {
   "cell_type": "code",
   "execution_count": 222,
   "id": "removable-imagination",
   "metadata": {},
   "outputs": [],
   "source": [
    "from sklearn import metrics"
   ]
  },
  {
   "cell_type": "code",
   "execution_count": 224,
   "id": "reliable-powell",
   "metadata": {},
   "outputs": [],
   "source": [
    "score = 100 * metrics.f1_score(y_test, y_pre, average=\"macro\")"
   ]
  },
  {
   "cell_type": "code",
   "execution_count": 225,
   "id": "auburn-electronics",
   "metadata": {},
   "outputs": [
    {
     "data": {
      "text/plain": [
       "63.11249927979857"
      ]
     },
     "execution_count": 225,
     "metadata": {},
     "output_type": "execute_result"
    }
   ],
   "source": [
    "score"
   ]
  },
  {
   "cell_type": "code",
   "execution_count": 226,
   "id": "satisfactory-protection",
   "metadata": {},
   "outputs": [],
   "source": [
    "test=pd.read_csv('test.csv')"
   ]
  },
  {
   "cell_type": "code",
   "execution_count": 228,
   "id": "natural-magnet",
   "metadata": {},
   "outputs": [
    {
     "name": "stdout",
     "output_type": "stream",
     "text": [
      "<class 'pandas.core.frame.DataFrame'>\n",
      "RangeIndex: 19919 entries, 0 to 19918\n",
      "Data columns (total 24 columns):\n",
      " #   Column                        Non-Null Count  Dtype  \n",
      "---  ------                        --------------  -----  \n",
      " 0   customer_id                   19919 non-null  object \n",
      " 1   Name                          19919 non-null  object \n",
      " 2   age                           19919 non-null  int64  \n",
      " 3   gender                        19919 non-null  object \n",
      " 4   security_no                   19919 non-null  object \n",
      " 5   region_category               16971 non-null  object \n",
      " 6   membership_category           19919 non-null  object \n",
      " 7   joining_date                  19919 non-null  object \n",
      " 8   joined_through_referral       19919 non-null  object \n",
      " 9   referral_id                   19919 non-null  object \n",
      " 10  preferred_offer_types         19760 non-null  object \n",
      " 11  medium_of_operation           19919 non-null  object \n",
      " 12  internet_option               19919 non-null  object \n",
      " 13  last_visit_time               19919 non-null  object \n",
      " 14  days_since_last_login         19919 non-null  int64  \n",
      " 15  avg_time_spent                19919 non-null  float64\n",
      " 16  avg_transaction_value         19919 non-null  float64\n",
      " 17  avg_frequency_login_days      19919 non-null  object \n",
      " 18  points_in_wallet              17956 non-null  float64\n",
      " 19  used_special_discount         19919 non-null  object \n",
      " 20  offer_application_preference  19919 non-null  object \n",
      " 21  past_complaint                19919 non-null  object \n",
      " 22  complaint_status              19919 non-null  object \n",
      " 23  feedback                      19919 non-null  object \n",
      "dtypes: float64(3), int64(2), object(19)\n",
      "memory usage: 3.6+ MB\n"
     ]
    }
   ],
   "source": [
    "test.info()"
   ]
  },
  {
   "cell_type": "code",
   "execution_count": null,
   "id": "negative-moral",
   "metadata": {},
   "outputs": [],
   "source": []
  }
 ],
 "metadata": {
  "kernelspec": {
   "display_name": "Python 3",
   "language": "python",
   "name": "python3"
  },
  "language_info": {
   "codemirror_mode": {
    "name": "ipython",
    "version": 3
   },
   "file_extension": ".py",
   "mimetype": "text/x-python",
   "name": "python",
   "nbconvert_exporter": "python",
   "pygments_lexer": "ipython3",
   "version": "3.7.9"
  }
 },
 "nbformat": 4,
 "nbformat_minor": 5
}
